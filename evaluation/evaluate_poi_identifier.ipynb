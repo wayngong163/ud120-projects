{
 "cells": [
  {
   "cell_type": "code",
   "execution_count": 51,
   "metadata": {
    "collapsed": true
   },
   "outputs": [],
   "source": [
    "#!/usr/bin/python\n",
    "\n",
    "\n",
    "\"\"\"\n",
    "    Starter code for the evaluation mini-project.\n",
    "    Start by copying your trained/tested POI identifier from\n",
    "    that which you built in the validation mini-project.\n",
    "\n",
    "    This is the second step toward building your POI identifier!\n",
    "\n",
    "    Start by loading/formatting the data...\n",
    "\"\"\"\n",
    "\n",
    "import pickle\n",
    "import sys\n",
    "sys.path.append(\"../tools/\")\n",
    "from feature_format import featureFormat, targetFeatureSplit\n",
    "\n",
    "data_dict = pickle.load(open(\"../final_project/final_project_dataset.pkl\", \"r\") )\n",
    "\n",
    "### add more features to features_list!\n",
    "features_list = [\"poi\", \"salary\"]\n",
    "\n",
    "data = featureFormat(data_dict, features_list)\n",
    "labels, features = targetFeatureSplit(data)\n",
    "\n",
    "### split train and test data\n",
    "from sklearn.model_selection import train_test_split\n",
    "features_train, features_test, labels_train, labels_test = train_test_split(\n",
    "    features, labels, test_size=0.3, random_state=42)"
   ]
  },
  {
   "cell_type": "code",
   "execution_count": 52,
   "metadata": {},
   "outputs": [
    {
     "name": "stdout",
     "output_type": "stream",
     "text": [
      "Training Time:0.002162s\n"
     ]
    }
   ],
   "source": [
    "### your code goes here \n",
    "### Decision Tree Classification\n",
    "from time import time\n",
    "from sklearn.tree import DecisionTreeClassifier\n",
    "t0 = time()\n",
    "clf = DecisionTreeClassifier()\n",
    "clf.fit(features_train, labels_train)\n",
    "t1 = time()\n",
    "print \"Training Time:%fs\" % (t1-t0)"
   ]
  },
  {
   "cell_type": "code",
   "execution_count": 53,
   "metadata": {},
   "outputs": [
    {
     "name": "stdout",
     "output_type": "stream",
     "text": [
      "Prediction Time:0.002182s\n"
     ]
    }
   ],
   "source": [
    "t0 = time()\n",
    "pred = clf.predict(features_test)\n",
    "t1 = time()\n",
    "print \"Prediction Time:%fs\" % (t1-t0)"
   ]
  },
  {
   "cell_type": "code",
   "execution_count": 54,
   "metadata": {},
   "outputs": [
    {
     "name": "stdout",
     "output_type": "stream",
     "text": [
      "Prediction Score:0.724138\n"
     ]
    }
   ],
   "source": [
    "from sklearn.metrics import accuracy_score\n",
    "print \"Prediction Score:%f\" % (accuracy_score(labels_test, pred))"
   ]
  },
  {
   "cell_type": "code",
   "execution_count": 55,
   "metadata": {},
   "outputs": [
    {
     "name": "stdout",
     "output_type": "stream",
     "text": [
      "Scores: [ 0.7         0.7         0.6         0.7         0.6         0.8         0.7\n",
      "  0.88888889  0.75        0.75      ]\n",
      "Mean Scores:0.718889\n"
     ]
    }
   ],
   "source": [
    "from sklearn.model_selection import cross_val_score\n",
    "scores = cross_val_score(clf, features, labels, cv=10)\n",
    "print \"Scores:\" , scores\n",
    "print \"Mean Scores:%.6f\" % scores.mean()"
   ]
  },
  {
   "cell_type": "code",
   "execution_count": 56,
   "metadata": {},
   "outputs": [
    {
     "name": "stdout",
     "output_type": "stream",
     "text": [
      "Precision Score:0.000000\n"
     ]
    }
   ],
   "source": [
    "### Precision Score\n",
    "from sklearn.metrics import precision_score\n",
    "prec_score = precision_score(labels_test, pred)\n",
    "print \"Precision Score:%f\" % prec_score"
   ]
  },
  {
   "cell_type": "code",
   "execution_count": 57,
   "metadata": {},
   "outputs": [
    {
     "name": "stdout",
     "output_type": "stream",
     "text": [
      "Recall Score:0.000000\n"
     ]
    }
   ],
   "source": [
    "### Recall Score\n",
    "from sklearn.metrics import recall_score\n",
    "reca_score = recall_score(labels_test, pred)\n",
    "print \"Recall Score:%f\" % reca_score"
   ]
  },
  {
   "cell_type": "code",
   "execution_count": 58,
   "metadata": {},
   "outputs": [
    {
     "data": {
      "text/plain": [
       "4"
      ]
     },
     "execution_count": 58,
     "metadata": {},
     "output_type": "execute_result"
    }
   ],
   "source": [
    "sum(x == 1 for x in labels_test)"
   ]
  },
  {
   "cell_type": "code",
   "execution_count": 59,
   "metadata": {},
   "outputs": [
    {
     "name": "stdout",
     "output_type": "stream",
     "text": [
      "#0 Labels: 0.000000\tPrediction: 0.000000\tTrue: Yes\tPositive: No\n",
      "#1 Labels: 0.000000\tPrediction: 0.000000\tTrue: Yes\tPositive: No\n",
      "#2 Labels: 0.000000\tPrediction: 0.000000\tTrue: Yes\tPositive: No\n",
      "#3 Labels: 0.000000\tPrediction: 0.000000\tTrue: Yes\tPositive: No\n",
      "#4 Labels: 0.000000\tPrediction: 1.000000\tTrue: No\tPositive: Yes\n",
      "#5 Labels: 0.000000\tPrediction: 0.000000\tTrue: Yes\tPositive: No\n",
      "#6 Labels: 0.000000\tPrediction: 0.000000\tTrue: Yes\tPositive: No\n",
      "#7 Labels: 0.000000\tPrediction: 0.000000\tTrue: Yes\tPositive: No\n",
      "#8 Labels: 0.000000\tPrediction: 0.000000\tTrue: Yes\tPositive: No\n",
      "#9 Labels: 0.000000\tPrediction: 0.000000\tTrue: Yes\tPositive: No\n",
      "#10 Labels: 0.000000\tPrediction: 0.000000\tTrue: Yes\tPositive: No\n",
      "#11 Labels: 0.000000\tPrediction: 1.000000\tTrue: No\tPositive: Yes\n",
      "#12 Labels: 0.000000\tPrediction: 0.000000\tTrue: Yes\tPositive: No\n",
      "#13 Labels: 0.000000\tPrediction: 0.000000\tTrue: Yes\tPositive: No\n",
      "#14 Labels: 0.000000\tPrediction: 0.000000\tTrue: Yes\tPositive: No\n",
      "#15 Labels: 0.000000\tPrediction: 0.000000\tTrue: Yes\tPositive: No\n",
      "#16 Labels: 0.000000\tPrediction: 0.000000\tTrue: Yes\tPositive: No\n",
      "#17 Labels: 0.000000\tPrediction: 0.000000\tTrue: Yes\tPositive: No\n",
      "#18 Labels: 0.000000\tPrediction: 0.000000\tTrue: Yes\tPositive: No\n",
      "#19 Labels: 0.000000\tPrediction: 1.000000\tTrue: No\tPositive: Yes\n",
      "#20 Labels: 0.000000\tPrediction: 0.000000\tTrue: Yes\tPositive: No\n",
      "#21 Labels: 0.000000\tPrediction: 1.000000\tTrue: No\tPositive: Yes\n",
      "#22 Labels: 1.000000\tPrediction: 0.000000\tTrue: No\tPositive: No\n",
      "#23 Labels: 0.000000\tPrediction: 0.000000\tTrue: Yes\tPositive: No\n",
      "#24 Labels: 1.000000\tPrediction: 0.000000\tTrue: No\tPositive: No\n",
      "#25 Labels: 1.000000\tPrediction: 0.000000\tTrue: No\tPositive: No\n",
      "#26 Labels: 0.000000\tPrediction: 0.000000\tTrue: Yes\tPositive: No\n",
      "#27 Labels: 1.000000\tPrediction: 0.000000\tTrue: No\tPositive: No\n",
      "#28 Labels: 0.000000\tPrediction: 0.000000\tTrue: Yes\tPositive: No\n"
     ]
    }
   ],
   "source": [
    "for i in range(len(labels_test)):\n",
    "    print \"#%d Labels: %f\\tPrediction: %f\\tTrue: %s\\tPositive: %s\" % (\n",
    "        i, labels_test[i], pred[i], \"Yes\" if labels_test[i]==pred[i] else \"No\", \"Yes\" if pred[i]==1.0 else \"No\")"
   ]
  },
  {
   "cell_type": "code",
   "execution_count": 60,
   "metadata": {},
   "outputs": [
    {
     "data": {
      "text/plain": [
       "0"
      ]
     },
     "execution_count": 60,
     "metadata": {},
     "output_type": "execute_result"
    }
   ],
   "source": [
    "sum(labels_test[i]==pred[i] and labels_test[i]==1.0 for i in range(len(labels_test)))"
   ]
  },
  {
   "cell_type": "code",
   "execution_count": 62,
   "metadata": {},
   "outputs": [
    {
     "name": "stdout",
     "output_type": "stream",
     "text": [
      "Precision Score: 0.666666666667\n",
      "Recall Score: 0.75\n"
     ]
    }
   ],
   "source": [
    "prediction_temp = [0, 1, 1, 0, 0, 0, 1, 0, 1, 0, 0, 1, 0, 0, 1, 1, 0, 1, 0, 1] \n",
    "real_temp       = [0, 0, 0, 0, 0, 0, 1, 0, 1, 1, 0, 1, 0, 1, 1, 1, 0, 1, 0, 0]\n",
    "print \"Precision Score:\", precision_score(real_temp, prediction_temp)\n",
    "print \"Recall Score:\", recall_score(real_temp, prediction_temp)"
   ]
  },
  {
   "cell_type": "code",
   "execution_count": null,
   "metadata": {
    "collapsed": true
   },
   "outputs": [],
   "source": []
  }
 ],
 "metadata": {
  "kernelspec": {
   "display_name": "Python 2",
   "language": "python",
   "name": "python2"
  },
  "language_info": {
   "codemirror_mode": {
    "name": "ipython",
    "version": 2
   },
   "file_extension": ".py",
   "mimetype": "text/x-python",
   "name": "python",
   "nbconvert_exporter": "python",
   "pygments_lexer": "ipython2",
   "version": "2.7.13"
  }
 },
 "nbformat": 4,
 "nbformat_minor": 2
}
