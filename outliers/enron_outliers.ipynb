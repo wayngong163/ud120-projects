{
 "cells": [
  {
   "cell_type": "code",
   "execution_count": 52,
   "metadata": {},
   "outputs": [],
   "source": [
    "#!/usr/bin/python\n",
    "\n",
    "import pickle\n",
    "import sys\n",
    "import matplotlib.pyplot\n",
    "sys.path.append(\"../tools/\")\n",
    "\n",
    "from feature_format import featureFormat, targetFeatureSplit\n",
    "\n",
    "\n",
    "### read in data dictionary, convert to numpy array\n",
    "data_dict = pickle.load( open(\"../final_project/final_project_dataset.pkl\", \"r\") )\n",
    "data_dict.pop( \"TOTAL\", 0 )\n",
    "features = [\"salary\", \"bonus\"]\n",
    "data = featureFormat(data_dict, features)\n"
   ]
  },
  {
   "cell_type": "code",
   "execution_count": 63,
   "metadata": {},
   "outputs": [
    {
     "data": {
      "text/plain": [
       "array([[  3.65788000e+05,   6.00000000e+05],\n",
       "       [  2.67102000e+05,   1.20000000e+06],\n",
       "       [  1.70941000e+05,   3.50000000e+05],\n",
       "       [  2.43293000e+05,   1.50000000e+06],\n",
       "       [  2.67093000e+05,   3.25000000e+05],\n",
       "       [  3.70448000e+05,   2.60000000e+06],\n",
       "       [  1.97091000e+05,   4.00000000e+05],\n",
       "       [  1.30724000e+05,   0.00000000e+00],\n",
       "       [  2.88589000e+05,   7.88750000e+05],\n",
       "       [  2.48546000e+05,   8.50000000e+05],\n",
       "       [  2.57486000e+05,   7.00000000e+05],\n",
       "       [  2.88542000e+05,   1.20000000e+06],\n",
       "       [  2.51654000e+05,   1.10000000e+06],\n",
       "       [  2.88558000e+05,   2.50000000e+05],\n",
       "       [  6.37440000e+04,   0.00000000e+00],\n",
       "       [  3.57091000e+05,   8.50000000e+05],\n",
       "       [  2.71442000e+05,   3.10000000e+06],\n",
       "       [  3.04110000e+05,   2.00000000e+06],\n",
       "       [  1.87922000e+05,   2.50000000e+05],\n",
       "       [  2.13625000e+05,   1.00000000e+06],\n",
       "       [  2.49201000e+05,   7.00000000e+05],\n",
       "       [  2.31330000e+05,   7.00000000e+05],\n",
       "       [  1.82245000e+05,   2.00000000e+05],\n",
       "       [  2.11788000e+05,   1.70000000e+06],\n",
       "       [  2.24305000e+05,   8.00000000e+05],\n",
       "       [  2.73746000e+05,   1.00000000e+06],\n",
       "       [  3.39288000e+05,   8.00000000e+06],\n",
       "       [  2.16582000e+05,   0.00000000e+00],\n",
       "       [  2.10500000e+05,   4.25000000e+05],\n",
       "       [  2.72880000e+05,   7.50000000e+05],\n",
       "       [  4.77000000e+02,   0.00000000e+00],\n",
       "       [  2.69076000e+05,   6.50000000e+05],\n",
       "       [  4.28780000e+05,   1.50000000e+06],\n",
       "       [  2.11844000e+05,   2.00000000e+05],\n",
       "       [  2.06121000e+05,   6.00000000e+05],\n",
       "       [  1.74246000e+05,   0.00000000e+00],\n",
       "       [  5.10364000e+05,   3.00000000e+06],\n",
       "       [  3.65038000e+05,   1.10000000e+06],\n",
       "       [  3.65163000e+05,   3.00000000e+06],\n",
       "       [  1.62779000e+05,   1.00000000e+05],\n",
       "       [  2.36457000e+05,   2.00000000e+05],\n",
       "       [  1.07232100e+06,   7.00000000e+06],\n",
       "       [  2.61516000e+05,   7.50000000e+05],\n",
       "       [  3.29078000e+05,   7.50000000e+05],\n",
       "       [  1.84899000e+05,   3.25000000e+05],\n",
       "       [  1.92008000e+05,   5.09870000e+05],\n",
       "       [  2.63413000e+05,   9.00000000e+05],\n",
       "       [  2.62663000e+05,   7.00000000e+05],\n",
       "       [  3.74125000e+05,   1.15000000e+06],\n",
       "       [  2.78601000e+05,   1.35000000e+06],\n",
       "       [  1.99157000e+05,   3.50000000e+05],\n",
       "       [  9.68400000e+04,   0.00000000e+00],\n",
       "       [  8.08180000e+04,   0.00000000e+00],\n",
       "       [  2.13999000e+05,   5.24999900e+06],\n",
       "       [  2.10692000e+05,   7.50000000e+05],\n",
       "       [  2.22093000e+05,   0.00000000e+00],\n",
       "       [  4.40698000e+05,   1.30000000e+06],\n",
       "       [  2.40189000e+05,   1.25000000e+06],\n",
       "       [  4.20636000e+05,   1.75000000e+06],\n",
       "       [  2.75101000e+05,   4.00000000e+05],\n",
       "       [  3.14288000e+05,   8.00000000e+05],\n",
       "       [  9.49410000e+04,   0.00000000e+00],\n",
       "       [  2.39502000e+05,   5.00000000e+05],\n",
       "       [  1.11125800e+06,   5.60000000e+06],\n",
       "       [  6.61500000e+03,   0.00000000e+00],\n",
       "       [  6.55037000e+05,   3.00000000e+05],\n",
       "       [  4.04338000e+05,   1.00000000e+06],\n",
       "       [  2.59996000e+05,   3.25000000e+05],\n",
       "       [  3.17543000e+05,   4.50000000e+05],\n",
       "       [  2.01955000e+05,   4.17500000e+06],\n",
       "       [  2.48146000e+05,   6.00000000e+05],\n",
       "       [  7.63990000e+04,   1.00000000e+05],\n",
       "       [  2.62788000e+05,   1.00000000e+06],\n",
       "       [  2.61809000e+05,   3.00000000e+05],\n",
       "       [  2.48017000e+05,   5.00000000e+05],\n",
       "       [  2.29284000e+05,   4.00000000e+05],\n",
       "       [  2.31946000e+05,   8.50000000e+05],\n",
       "       [  2.21003000e+05,   7.00000000e+04],\n",
       "       [  1.58403000e+05,   0.00000000e+00],\n",
       "       [  2.50100000e+05,   6.00000000e+05],\n",
       "       [  4.92375000e+05,   8.00000000e+05],\n",
       "       [  1.06093200e+06,   2.00000000e+06],\n",
       "       [  2.61879000e+05,   1.00000000e+06],\n",
       "       [  2.39671000e+05,   4.00000000e+05],\n",
       "       [  3.04588000e+05,   2.50000000e+06],\n",
       "       [  3.09946000e+05,   7.00000000e+05],\n",
       "       [  8.52740000e+04,   0.00000000e+00],\n",
       "       [  2.47338000e+05,   3.00000000e+05],\n",
       "       [  3.49487000e+05,   0.00000000e+00],\n",
       "       [  3.30546000e+05,   9.00000000e+05],\n",
       "       [  4.15189000e+05,   1.00000000e+06],\n",
       "       [  2.65214000e+05,   6.00000000e+05],\n",
       "       [  2.78601000e+05,   8.00000000e+05],\n",
       "       [  2.74975000e+05,   6.00000000e+05]])"
      ]
     },
     "execution_count": 63,
     "metadata": {},
     "output_type": "execute_result"
    }
   ],
   "source": [
    "data"
   ]
  },
  {
   "cell_type": "code",
   "execution_count": 54,
   "metadata": {},
   "outputs": [
    {
     "data": {
      "text/plain": [
       "94"
      ]
     },
     "execution_count": 54,
     "metadata": {},
     "output_type": "execute_result"
    }
   ],
   "source": [
    "len(data)"
   ]
  },
  {
   "cell_type": "code",
   "execution_count": 55,
   "metadata": {
    "collapsed": true
   },
   "outputs": [],
   "source": [
    "salary = [[x[0]] for x in data]"
   ]
  },
  {
   "cell_type": "code",
   "execution_count": 56,
   "metadata": {},
   "outputs": [
    {
     "data": {
      "text/plain": [
       "[[365788.0], [267102.0], [170941.0], [243293.0], [267093.0]]"
      ]
     },
     "execution_count": 56,
     "metadata": {},
     "output_type": "execute_result"
    }
   ],
   "source": [
    "salary[:5]"
   ]
  },
  {
   "cell_type": "code",
   "execution_count": 57,
   "metadata": {
    "collapsed": true
   },
   "outputs": [],
   "source": [
    "bonus = [[x[1]] for x in data]"
   ]
  },
  {
   "cell_type": "code",
   "execution_count": 58,
   "metadata": {},
   "outputs": [
    {
     "data": {
      "text/plain": [
       "[[600000.0], [1200000.0], [350000.0], [1500000.0], [325000.0]]"
      ]
     },
     "execution_count": 58,
     "metadata": {},
     "output_type": "execute_result"
    }
   ],
   "source": [
    "bonus[:5]"
   ]
  },
  {
   "cell_type": "code",
   "execution_count": 59,
   "metadata": {},
   "outputs": [
    {
     "name": "stdout",
     "output_type": "stream",
     "text": [
      "length of salary: 94\n",
      "length of bonus: 94\n"
     ]
    }
   ],
   "source": [
    "print \"length of salary:\", len(salary)\n",
    "print \"length of bonus:\", len(bonus)"
   ]
  },
  {
   "cell_type": "code",
   "execution_count": 60,
   "metadata": {},
   "outputs": [],
   "source": [
    "salary_train = salary[:int(0.9*len(salary))]\n",
    "salary_test = salary[int(0.9*len(salary)):]\n",
    "bonus_train = bonus[:int(0.9*len(bonus))]\n",
    "bonus_test = bonus[int(0.9*len(bonus)):]"
   ]
  },
  {
   "cell_type": "code",
   "execution_count": 61,
   "metadata": {},
   "outputs": [
    {
     "name": "stdout",
     "output_type": "stream",
     "text": [
      "training time:0.00s\n"
     ]
    }
   ],
   "source": [
    "### your code below\n",
    "from time import time\n",
    "from sklearn.linear_model import LinearRegression\n",
    "t0 = time()\n",
    "reg = LinearRegression()\n",
    "reg.fit(salary_train, bonus_train)\n",
    "t1 = time()\n",
    "print \"training time:%.2fs\" % (t1-t0)"
   ]
  },
  {
   "cell_type": "code",
   "execution_count": 62,
   "metadata": {},
   "outputs": [
    {
     "data": {
      "image/png": "[encoded data removed]",
      "text/plain": [
       "<matplotlib.figure.Figure at 0x11bafb0d0>"
      ]
     },
     "metadata": {},
     "output_type": "display_data"
    }
   ],
   "source": [
    "for point in data:\n",
    "    salary = point[0]\n",
    "    bonus = point[1]\n",
    "    matplotlib.pyplot.scatter( salary, bonus )\n",
    "\n",
    "matplotlib.pyplot.xlabel(\"salary\")\n",
    "matplotlib.pyplot.ylabel(\"bonus\")\n",
    "matplotlib.pyplot.show()"
   ]
  },
  {
   "cell_type": "code",
   "execution_count": null,
   "metadata": {
    "collapsed": true
   },
   "outputs": [],
   "source": []
  }
 ],
 "metadata": {
  "kernelspec": {
   "display_name": "Python 2",
   "language": "python",
   "name": "python2"
  },
  "language_info": {
   "codemirror_mode": {
    "name": "ipython",
    "version": 2
   },
   "file_extension": ".py",
   "mimetype": "text/x-python",
   "name": "python",
   "nbconvert_exporter": "python",
   "pygments_lexer": "ipython2",
   "version": "2.7.13"
  }
 },
 "nbformat": 4,
 "nbformat_minor": 2
}
